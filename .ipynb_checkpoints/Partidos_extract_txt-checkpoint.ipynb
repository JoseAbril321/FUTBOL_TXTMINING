{
 "cells": [
  {
   "cell_type": "code",
   "execution_count": 1,
   "metadata": {},
   "outputs": [],
   "source": [
    "import os\n",
    "import csv"
   ]
  },
  {
   "cell_type": "code",
   "execution_count": 6,
   "metadata": {},
   "outputs": [
    {
     "name": "stdout",
     "output_type": "stream",
     "text": [
      "Archivo CSV creado exitosamente: salida.csv\n"
     ]
    }
   ],
   "source": [
    "# Ruta de la carpeta que contiene los archivos .txt\n",
    "carpeta = './Proyecto/'\n",
    "\n",
    "# Nombre del archivo CSV a crear\n",
    "csv_file = 'salida.csv'\n",
    "\n",
    "# Abrir el archivo CSV para escritura\n",
    "with open(csv_file, mode='w', newline='', encoding='utf-8') as file_csv:\n",
    "    escritor_csv = csv.writer(file_csv)\n",
    "    \n",
    "    # Escribir la cabecera del CSV\n",
    "    escritor_csv.writerow(['Titulo', 'Contenido'])\n",
    "    \n",
    "    # Recorrer todos los archivos en la carpeta\n",
    "    for archivo in os.listdir(carpeta):\n",
    "        if archivo.endswith('.txt'):\n",
    "            ruta_archivo = os.path.join(carpeta, archivo)\n",
    "            \n",
    "            # Leer el contenido del archivo .txt\n",
    "            with open(ruta_archivo, 'r', encoding='utf-8') as file_txt:\n",
    "                \n",
    "                contenido = file_txt.read()\n",
    "                \n",
    "                contenido = contenido.replace(',', ' ').replace('\\n', ' ')\n",
    "                \n",
    "            # Escribir el nombre del archivo (sin extensión) y el contenido en el CSV\n",
    "            escritor_csv.writerow([archivo[:-4], contenido])\n",
    "\n",
    "print(f'Archivo CSV creado exitosamente: {csv_file}')\n"
   ]
  },
  {
   "cell_type": "code",
   "execution_count": null,
   "metadata": {},
   "outputs": [],
   "source": []
  }
 ],
 "metadata": {
  "kernelspec": {
   "display_name": "Python 3 (ipykernel)",
   "language": "python",
   "name": "python3"
  },
  "language_info": {
   "codemirror_mode": {
    "name": "ipython",
    "version": 3
   },
   "file_extension": ".py",
   "mimetype": "text/x-python",
   "name": "python",
   "nbconvert_exporter": "python",
   "pygments_lexer": "ipython3",
   "version": "3.11.5"
  }
 },
 "nbformat": 4,
 "nbformat_minor": 4
}
